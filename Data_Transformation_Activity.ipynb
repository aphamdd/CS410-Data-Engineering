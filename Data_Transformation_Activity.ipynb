{
  "nbformat": 4,
  "nbformat_minor": 0,
  "metadata": {
    "colab": {
      "name": "Data Transformation Activity.ipynb",
      "provenance": [],
      "authorship_tag": "ABX9TyN/E15jxx+rQQDNhKu0Sn71",
      "include_colab_link": true
    },
    "kernelspec": {
      "name": "python3",
      "display_name": "Python 3"
    },
    "language_info": {
      "name": "python"
    }
  },
  "cells": [
    {
      "cell_type": "markdown",
      "metadata": {
        "id": "view-in-github",
        "colab_type": "text"
      },
      "source": [
        "<a href=\"https://colab.research.google.com/github/aphamdd/CS410-Data-Engineering/blob/main/Data_Transformation_Activity.ipynb\" target=\"_parent\"><img src=\"https://colab.research.google.com/assets/colab-badge.svg\" alt=\"Open In Colab\"/></a>"
      ]
    },
    {
      "cell_type": "code",
      "execution_count": 12,
      "metadata": {
        "colab": {
          "base_uri": "https://localhost:8080/"
        },
        "id": "-ursJEcKlmZh",
        "outputId": "a10aa4d8-c497-4e1b-cf25-6e27c20ded3f"
      },
      "outputs": [
        {
          "output_type": "stream",
          "name": "stdout",
          "text": [
            "0     1879\n",
            "1     1868\n",
            "2     1869\n",
            "3     1851\n",
            "4     1857\n",
            "5     1875\n",
            "6     1872\n",
            "7      NaN\n",
            "8     1676\n",
            "9     1679\n",
            "10    1802\n",
            "11    1859\n",
            "12    1888\n",
            "13    1839\n",
            "14    1897\n",
            "15    1865\n",
            "16    1860\n",
            "17    1873\n",
            "18    1866\n",
            "19    1899\n",
            "Name: Date of Publication, dtype: object\n"
          ]
        }
      ],
      "source": [
        "import pandas as pd\n",
        "import numpy as np\n",
        "\n",
        "df = pd.read_csv('/content/books.csv')\n",
        "df = df.drop(['Edition Statement', 'Corporate Author', 'Corporate Contributors', 'Former owner', 'Engraver', 'Issuance type', 'Shelfmarks'], axis = 1)\n",
        "\n",
        "# https://realpython.com/python-data-cleaning-numpy-pandas/\n",
        "pub = df['Place of Publication']\n",
        "london = pub.str.contains('London')\n",
        "london[:5]\n",
        "oxford = pub.str.contains('Oxford')\n",
        "df['Place of Publication'] = np.where(london, 'London',\n",
        "                                      np.where(oxford, 'Oxford',\n",
        "                                               pub.str.replace('-', ' ')))\n",
        "#df2 = df['Date of Publication'].str.extract(r'^(\\d{4})', expand=False)\n",
        "################################################################\n",
        "print(df.head(20))\n"
      ]
    }
  ]
}